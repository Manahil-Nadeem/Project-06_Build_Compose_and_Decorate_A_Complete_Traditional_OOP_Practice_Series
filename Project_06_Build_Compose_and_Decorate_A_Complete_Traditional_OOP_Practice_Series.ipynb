{
  "nbformat": 4,
  "nbformat_minor": 0,
  "metadata": {
    "colab": {
      "provenance": []
    },
    "kernelspec": {
      "name": "python3",
      "display_name": "Python 3"
    },
    "language_info": {
      "name": "python"
    }
  },
  "cells": [
    {
      "cell_type": "code",
      "execution_count": 56,
      "metadata": {
        "colab": {
          "base_uri": "https://localhost:8080/"
        },
        "id": "9qFio2_2e6Xv",
        "outputId": "58ee449b-a96c-4718-b54b-939af5c40160"
      },
      "outputs": [
        {
          "output_type": "stream",
          "name": "stdout",
          "text": [
            "Student Name: Aliza\n",
            "Marks: 85\n",
            "Grade: A-one🚀\n"
          ]
        }
      ],
      "source": [
        "#1. Using self\n",
        "\n",
        "class Student:\n",
        "    def __init__(self, name, marks, grade):\n",
        "        self.name = name\n",
        "        self.marks = marks\n",
        "        self.grade = grade\n",
        "\n",
        "    def display(self):\n",
        "        print(f\"Student Name: {self.name}\")\n",
        "        print(f\"Marks: {self.marks}\")\n",
        "        print(f\"Grade: {self.grade}\")\n",
        "\n",
        "student1 = Student(\"Aliza\", 85, \"A-one🚀\")\n",
        "student1.display()\n",
        "\n"
      ]
    },
    {
      "cell_type": "code",
      "source": [
        "#Using CLS\n",
        "class Counter:\n",
        "    count = 0  # Class variable to keep track of the number of objects\n",
        "\n",
        "    def __init__(self):\n",
        "        Counter.count += 1  # Increment count when a new object is created\n",
        "\n",
        "    @classmethod\n",
        "    def show_count(cls):\n",
        "        print(f\"Total objects created: {cls.count}\")\n",
        "\n",
        "# Example usage\n",
        "c1 = Counter()\n",
        "c2 = Counter()\n",
        "c3 = Counter()\n",
        "c4 = Counter()\n",
        "c5 = Counter()\n",
        "\n",
        "Counter.show_count()\n"
      ],
      "metadata": {
        "colab": {
          "base_uri": "https://localhost:8080/"
        },
        "id": "KcXNYUMSfx0F",
        "outputId": "823f57ed-a0de-461f-9030-6decfb888fe3"
      },
      "execution_count": 5,
      "outputs": [
        {
          "output_type": "stream",
          "name": "stdout",
          "text": [
            "Total objects created: 5\n"
          ]
        }
      ]
    },
    {
      "cell_type": "code",
      "source": [
        "# 3. Public Variables and Methods\n",
        "class Car:\n",
        "    def __init__(self, brand):\n",
        "        self.brand = brand  # Public variable\n",
        "\n",
        "    def start(self):        # Public method\n",
        "        print(f\"The {self.brand} car has started.\")\n",
        "\n",
        "my_car = Car(\"Toyota\")\n",
        "print(my_car.brand)\n",
        "my_car.start()\n"
      ],
      "metadata": {
        "colab": {
          "base_uri": "https://localhost:8080/"
        },
        "id": "Yf4Lt6AVgKEI",
        "outputId": "d7cc3670-1d07-4d48-d393-9b8ce6a5a0c5"
      },
      "execution_count": 8,
      "outputs": [
        {
          "output_type": "stream",
          "name": "stdout",
          "text": [
            "Toyota\n",
            "The Toyota car has started.\n"
          ]
        }
      ]
    },
    {
      "cell_type": "code",
      "source": [
        "# 4. Class Variables and Class Methods\n",
        "class Bank:\n",
        "    bank_name = \"Default Bank\"  # Class variable shared by all instances\n",
        "\n",
        "    def __init__(self, customer_name):\n",
        "        self.customer_name = customer_name\n",
        "\n",
        "    @classmethod\n",
        "    def change_bank_name(cls, name):\n",
        "        cls.bank_name = name  # Modify the class variable using cls\n",
        "\n",
        "    def show(self):\n",
        "        print(f\"Customer: {self.customer_name}, Bank: {Bank.bank_name}\")\n",
        "\n",
        "b1 = Bank(\"Ali\")\n",
        "b2 = Bank(\"Basil\")\n",
        "b3 = Bank(\"Riaz\")\n",
        "\n",
        "b1.show()\n",
        "b2.show()\n",
        "b3.show()\n",
        "\n",
        "# Change the bank name using class method\n",
        "Bank.change_bank_name(\"Meezan Bank\")\n",
        "\n",
        "# Show updated names for both instances\n",
        "b1.show()\n",
        "b2.show()\n",
        "b3.show()\n"
      ],
      "metadata": {
        "colab": {
          "base_uri": "https://localhost:8080/"
        },
        "id": "jA3wcZR-gwSi",
        "outputId": "e0bcdb4d-6a42-4805-fe11-2f3e1d92dfab"
      },
      "execution_count": 10,
      "outputs": [
        {
          "output_type": "stream",
          "name": "stdout",
          "text": [
            "Customer: Ali, Bank: Default Bank\n",
            "Customer: Basil, Bank: Default Bank\n",
            "Customer: Riaz, Bank: Default Bank\n",
            "Customer: Ali, Bank: Meezan Bank\n",
            "Customer: Basil, Bank: Meezan Bank\n",
            "Customer: Riaz, Bank: Meezan Bank\n"
          ]
        }
      ]
    },
    {
      "cell_type": "code",
      "source": [
        "# 5. Static Variables and Static Methods\n",
        "class MathUtils:\n",
        "    @staticmethod\n",
        "    def add(a, b,c):\n",
        "        return a + b - c\n",
        "result = MathUtils.add(12, 7, 9)\n",
        "print(f\"The sum is: {result}\")\n"
      ],
      "metadata": {
        "colab": {
          "base_uri": "https://localhost:8080/"
        },
        "id": "uFgXXAYrhZSv",
        "outputId": "3fb0d7bb-1e1f-4738-d2d5-865ac81e1b2b"
      },
      "execution_count": 12,
      "outputs": [
        {
          "output_type": "stream",
          "name": "stdout",
          "text": [
            "The sum is: 10\n"
          ]
        }
      ]
    },
    {
      "cell_type": "code",
      "source": [
        "# 6. Constructors and Destructors\n",
        "class Logger:\n",
        "    def __init__(self):\n",
        "        print(\"Logger object created.\")  # Constructor message when an object is created\n",
        "\n",
        "    def __del__(self):\n",
        "        print(\"Logger object destroyed.\")  # Destructor message when an object is destroyed\n",
        "\n",
        "logger1 = Logger()  # This will trigger the constructor\n",
        "del logger1         # This will trigger the destructor\n"
      ],
      "metadata": {
        "colab": {
          "base_uri": "https://localhost:8080/"
        },
        "id": "Q0k74gSxh8pB",
        "outputId": "c2bfefb9-24ea-4bc7-d627-c265ed9e8743"
      },
      "execution_count": 13,
      "outputs": [
        {
          "output_type": "stream",
          "name": "stdout",
          "text": [
            "Logger object created.\n",
            "Logger object destroyed.\n"
          ]
        }
      ]
    },
    {
      "cell_type": "code",
      "source": [
        "# 7. Access Modifiers: Public, Private, and Protected\n",
        "class Employee:\n",
        "    def __init__(self, name, salary, ssn):\n",
        "        self.name = name        # Public variable\n",
        "        self._salary = salary   # Protected variable\n",
        "        self.__ssn = ssn        # Private variable\n",
        "emp = Employee(\"Jawed Iqbal\", 50000, \"143-45-67229\")\n",
        "\n",
        "# Accessing public variable\n",
        "print(f\"Name: {emp.name}\")\n",
        "\n",
        "# Accessing protected variable\n",
        "print(f\"Salary: {emp._salary}\")\n",
        "\n",
        "# Accessing private variable using name mangling\n",
        "print(f\"SSN (name mangling): {emp._Employee__ssn}\")"
      ],
      "metadata": {
        "colab": {
          "base_uri": "https://localhost:8080/"
        },
        "id": "EIV5HSrSiYMB",
        "outputId": "e888261e-9e1a-4ded-f494-f95aefd5c503"
      },
      "execution_count": 18,
      "outputs": [
        {
          "output_type": "stream",
          "name": "stdout",
          "text": [
            "Name: Jawed Iqbal\n",
            "Salary: 50000\n",
            "SSN (name mangling): 143-45-67229\n"
          ]
        }
      ]
    },
    {
      "cell_type": "code",
      "source": [
        "# 8. The super() Function\n",
        "class Person:\n",
        "    def __init__(self, name):\n",
        "        self.name = name  # Setting the name in the constructor\n",
        "\n",
        "class Teacher(Person):\n",
        "    def __init__(self, name, subject):\n",
        "        super().__init__(name)  # Using super() to call the base class constructor\n",
        "        self.subject = subject  # Adding subject field for the Teacher class\n",
        "\n",
        "    def display(self):\n",
        "        print(f\"Teacher: {self.name}, Subject: {self.subject}\")\n",
        "teacher1 = Teacher(\"Sir Naeem\", \"Mathematics\")\n",
        "teacher1.display()\n"
      ],
      "metadata": {
        "colab": {
          "base_uri": "https://localhost:8080/"
        },
        "id": "x805CyUCi4M1",
        "outputId": "d2eabdca-abd2-4a50-ef8e-e1d5495c6e73"
      },
      "execution_count": 21,
      "outputs": [
        {
          "output_type": "stream",
          "name": "stdout",
          "text": [
            "Teacher: Sir Naeem, Subject: Mathematics\n"
          ]
        }
      ]
    },
    {
      "cell_type": "code",
      "source": [
        "# 9. Abstract Classes and Methods\n",
        "from abc import ABC, abstractmethod\n",
        "\n",
        "# Abstract class Shape\n",
        "class Shape(ABC):\n",
        "    @abstractmethod\n",
        "    def area(self):\n",
        "        pass  # Abstract method for calculating area\n",
        "\n",
        "# Rectangle class inherits from Shape and implements area\n",
        "class Rectangle(Shape):\n",
        "    def __init__(self, width, height):\n",
        "        self.width = width\n",
        "        self.height = height\n",
        "\n",
        "    def area(self):\n",
        "        return self.width * self.height\n",
        "rect = Rectangle(7, 5)\n",
        "print(f\"Area of Rectangle: {rect.area()}\")\n"
      ],
      "metadata": {
        "colab": {
          "base_uri": "https://localhost:8080/"
        },
        "id": "KRfMy83BkPP-",
        "outputId": "eaa58009-8e6c-4773-8728-67af7ab364bf"
      },
      "execution_count": 24,
      "outputs": [
        {
          "output_type": "stream",
          "name": "stdout",
          "text": [
            "Area of Rectangle: 35\n"
          ]
        }
      ]
    },
    {
      "cell_type": "code",
      "source": [
        "# 10. Instance Methods\n",
        "\n",
        "class Dog:\n",
        "    # Constructor to initialize name and breed\n",
        "    def __init__(self, name, breed):\n",
        "        self.name = name  # Instance variable for dog's name\n",
        "        self.breed = breed  # Instance variable for dog's breed\n",
        "\n",
        "    # Instance method to bark\n",
        "    def bark(self):\n",
        "        print(f\"{self.name} says woof🎉!\")\n",
        "dog1 = Dog(\"Huddy\", \"Golden Retriever\")\n",
        "dog1.bark()\n"
      ],
      "metadata": {
        "colab": {
          "base_uri": "https://localhost:8080/"
        },
        "id": "Kq88dIR9ktc1",
        "outputId": "6a742606-6094-4e74-cef0-a5fb88c5ec7a"
      },
      "execution_count": 61,
      "outputs": [
        {
          "output_type": "stream",
          "name": "stdout",
          "text": [
            "Huddy says woof🎉!\n"
          ]
        }
      ]
    },
    {
      "cell_type": "code",
      "source": [
        "# 11. Class Methods:\n",
        "\n",
        "class Book:\n",
        "    total_books = 0\n",
        "\n",
        "    # Constructor to initialize book details\n",
        "    def __init__(self, title, author):\n",
        "        self.title = title  # Instance variable for book title\n",
        "        self.author = author  # Instance variable for book author\n",
        "        # Increment the total book count each time a new book is created\n",
        "        Book.increment_book_count()\n",
        "\n",
        "    # Class method to increment the total book count\n",
        "    @classmethod\n",
        "    def increment_book_count(cls):\n",
        "        cls.total_books += 1\n",
        "\n",
        "book1 = Book(\"Mushaf\" , \"Nimra Ahmed\")\n",
        "book2 = Book(\"Jannat ke Patte\", \" Umera Ahmed\")\n",
        "book3 = Book(\"Raja Gidh\", \"Bano Qudsia\")\n",
        "book4 = Book(\"Aangan\", \"Khadeeja Mastoor\")\n",
        "print(f\"Total books added: {Book.total_books}\")\n"
      ],
      "metadata": {
        "colab": {
          "base_uri": "https://localhost:8080/"
        },
        "id": "8pBb8-82lTjv",
        "outputId": "f62c135e-1b4e-4efb-8d29-8aae36da8141"
      },
      "execution_count": 27,
      "outputs": [
        {
          "output_type": "stream",
          "name": "stdout",
          "text": [
            "Total books added: 4\n"
          ]
        }
      ]
    },
    {
      "cell_type": "code",
      "source": [
        "# 12. Static Methods:\n",
        "\n",
        "class TemperatureConverter:\n",
        "    # Static method to convert Celsius to Fahrenheit\n",
        "    @staticmethod\n",
        "    def celsius_to_fahrenheit(c):\n",
        "        return (c * 9/5) + 32\n",
        "celsius_temp = 25\n",
        "fahrenheit_temp = TemperatureConverter.celsius_to_fahrenheit(celsius_temp)\n",
        "\n",
        "print(f\"{celsius_temp}°C is equal to {fahrenheit_temp}°F\")\n"
      ],
      "metadata": {
        "colab": {
          "base_uri": "https://localhost:8080/"
        },
        "id": "qenMIp4AmoC6",
        "outputId": "5db1cd6e-b41d-403d-ad81-84dfecd0fb13"
      },
      "execution_count": 28,
      "outputs": [
        {
          "output_type": "stream",
          "name": "stdout",
          "text": [
            "25°C is equal to 77.0°F\n"
          ]
        }
      ]
    },
    {
      "cell_type": "code",
      "source": [
        "# 13. Composition:\n",
        "\n",
        "class Engine:\n",
        "    def start(self):\n",
        "        return \"Engine started but wait for few seconds🔥!\"\n",
        "class Car:\n",
        "    def __init__(self, engine):\n",
        "        self.engine = engine  # Composition: Car has an Engine\n",
        "\n",
        "    def start_car(self):\n",
        "        return self.engine.start()  # Accessing Engine's method\n",
        "\n",
        "my_engine = Engine()\n",
        "my_car = Car(my_engine)\n",
        "\n",
        "print(my_car.start_car())\n"
      ],
      "metadata": {
        "colab": {
          "base_uri": "https://localhost:8080/"
        },
        "id": "bppg31x_nKop",
        "outputId": "d7abadca-04c8-4534-817c-ca7fedf34782"
      },
      "execution_count": 62,
      "outputs": [
        {
          "output_type": "stream",
          "name": "stdout",
          "text": [
            "Engine started but wait for few seconds🔥!\n"
          ]
        }
      ]
    },
    {
      "cell_type": "code",
      "source": [
        "# 14. Aggregation:\n",
        "\n",
        "class Employee:\n",
        "    def __init__(self, name, emp_id):\n",
        "        self.name = name\n",
        "        self.emp_id = emp_id\n",
        "\n",
        "    def get_details(self):\n",
        "        return f\"Employee Name: {self.name}, ID: {self.emp_id}\"\n",
        "\n",
        "#uses aggregation\n",
        "class Department:\n",
        "    def __init__(self, name, employee):\n",
        "        self.name = name\n",
        "        self.employee = employee\n",
        "    def show_department_details(self):\n",
        "        return f\"Department: {self.name}, {self.employee.get_details()}\"\n",
        "\n",
        "# Create an Employee object independently\n",
        "emp1 = Employee(\"Ayana Sheikh\", 141)\n",
        "\n",
        "# Pass the existing Employee to a Department (aggregation)\n",
        "dept1 = Department(\"Human Resources\", emp1)\n",
        "\n",
        "\n",
        "print(dept1.show_department_details())\n",
        "\n"
      ],
      "metadata": {
        "colab": {
          "base_uri": "https://localhost:8080/"
        },
        "id": "U2Gtthw7nmLe",
        "outputId": "c424076f-30d3-485b-e617-e12e55f16172"
      },
      "execution_count": 33,
      "outputs": [
        {
          "output_type": "stream",
          "name": "stdout",
          "text": [
            "Department: Human Resources, Employee Name: Ayana Sheikh, ID: 141\n"
          ]
        }
      ]
    },
    {
      "cell_type": "code",
      "source": [
        "# 15. Method Resolution Order (MRO) and Diamond Inheritance:\n",
        "\n",
        "# Base class A\n",
        "class A:\n",
        "    def show(self):\n",
        "        print(\"Show from class A\")\n",
        "\n",
        "# Class B inherits from A\n",
        "class B(A):\n",
        "    def show(self):\n",
        "        print(\"Show from class B\")\n",
        "\n",
        "# Class C also inherits from A\n",
        "class C(A):\n",
        "    def show(self):\n",
        "        print(\"Show from class C\")\n",
        "\n",
        "# Class D inherits from both B and C\n",
        "class D(B, C):\n",
        "    pass  # Inherits everything from B and C\n",
        "\n",
        "# Create an object of class D\n",
        "d = D()\n",
        "d.show()\n",
        "print(D.__mro__)\n"
      ],
      "metadata": {
        "colab": {
          "base_uri": "https://localhost:8080/"
        },
        "id": "ir66aCYDoN4y",
        "outputId": "bf5eff87-a5f2-4b9b-a3fb-f59bcce985d6"
      },
      "execution_count": 34,
      "outputs": [
        {
          "output_type": "stream",
          "name": "stdout",
          "text": [
            "Show from class B\n",
            "(<class '__main__.D'>, <class '__main__.B'>, <class '__main__.C'>, <class '__main__.A'>, <class 'object'>)\n"
          ]
        }
      ]
    },
    {
      "cell_type": "code",
      "source": [
        "# 16. Function Decorators:\n",
        "\n",
        "def log_function_call(func):\n",
        "    def wrapper():\n",
        "        print(\"🔔 Function is being called...\")\n",
        "        return func()\n",
        "    return wrapper\n",
        "\n",
        "# Function to decorate\n",
        "@log_function_call\n",
        "def say_hello():\n",
        "    print(\"👋 Hello!\")\n",
        "say_hello()\n",
        "\n"
      ],
      "metadata": {
        "colab": {
          "base_uri": "https://localhost:8080/"
        },
        "id": "2e48l2sXosaQ",
        "outputId": "a73689e1-ea17-45a0-a3ae-b3b226e27a85"
      },
      "execution_count": 36,
      "outputs": [
        {
          "output_type": "stream",
          "name": "stdout",
          "text": [
            "🔔 Function is being called...\n",
            "👋 Hello!\n"
          ]
        }
      ]
    },
    {
      "cell_type": "code",
      "source": [
        "# 17. Class Decorators:\n",
        "\n",
        "def add_greeting(cls):\n",
        "    def greet(self):\n",
        "        return \"👋 Hello from Decorator!\"\n",
        "    cls.greet = greet\n",
        "    return cls\n",
        "\n",
        "# Apply the class decorator to Person\n",
        "@add_greeting\n",
        "class Person:\n",
        "    def __init__(self, name):\n",
        "        self.name = name\n",
        "\n",
        "# Create an instance and use the added greet() method\n",
        "p = Person(\"Ali Raza\")\n",
        "print(p.greet())\n"
      ],
      "metadata": {
        "colab": {
          "base_uri": "https://localhost:8080/"
        },
        "id": "RrSQlCX9pKFU",
        "outputId": "eb6f91a2-4ca5-4e4c-8502-386460245bf4"
      },
      "execution_count": 38,
      "outputs": [
        {
          "output_type": "stream",
          "name": "stdout",
          "text": [
            "👋 Hello from Decorator!\n"
          ]
        }
      ]
    },
    {
      "cell_type": "code",
      "source": [
        "# 18. Property Decorators: @property, @setter, and @deleter:\n",
        "\n",
        "class Product:\n",
        "    def __init__(self, price):\n",
        "        self._price = price  # Private attribute\n",
        "\n",
        "    # Getter method using @property\n",
        "    @property\n",
        "    def price(self):\n",
        "        print(\"📦 Getting the price...\")\n",
        "        return self._price\n",
        "\n",
        "    # Setter method using @price.setter\n",
        "    @price.setter\n",
        "    def price(self, value):\n",
        "        if value < 0:\n",
        "            print(\"⚠️ Price cannot be negative!\")\n",
        "        else:\n",
        "            print(\"🔧 Setting the price...\")\n",
        "            self._price = value\n",
        "\n",
        "    # Deleter method using @price.deleter\n",
        "    @price.deleter\n",
        "    def price(self):\n",
        "        print(\"❌ Deleting the price...\")\n",
        "        del self._price\n",
        "p = Product(100)\n",
        "\n",
        "print(p.price)\n",
        "p.price = 150\n",
        "print(p.price)\n",
        "p.price = -50\n",
        "del p.price\n"
      ],
      "metadata": {
        "colab": {
          "base_uri": "https://localhost:8080/"
        },
        "id": "U75a0PyNp4ox",
        "outputId": "365a5487-35ee-40eb-97ec-fe3a07e61027"
      },
      "execution_count": 40,
      "outputs": [
        {
          "output_type": "stream",
          "name": "stdout",
          "text": [
            "📦 Getting the price...\n",
            "100\n",
            "🔧 Setting the price...\n",
            "📦 Getting the price...\n",
            "150\n",
            "⚠️ Price cannot be negative!\n",
            "❌ Deleting the price...\n"
          ]
        }
      ]
    },
    {
      "cell_type": "code",
      "source": [
        "# 19. callable() and __call__():\n",
        "\n",
        "class Multiplier:\n",
        "    def __init__(self, factor):\n",
        "        self.factor = factor  # Set the multiplication factor\n",
        "\n",
        "    def __call__(self, value):\n",
        "        return value * self.factor\n",
        "\n",
        "# Create an instance of Multiplier\n",
        "double = Multiplier(4)\n",
        "\n",
        "# Check if the object is callable\n",
        "print(callable(double))\n",
        "\n",
        "# Use the object like a function\n",
        "result = double(12)\n",
        "print(f\" Result: {result}\")"
      ],
      "metadata": {
        "colab": {
          "base_uri": "https://localhost:8080/"
        },
        "id": "k83AYKSSqJ6k",
        "outputId": "021132a4-64ec-4ded-cccd-8ff8cca49a85"
      },
      "execution_count": 44,
      "outputs": [
        {
          "output_type": "stream",
          "name": "stdout",
          "text": [
            "True\n",
            " Result: 48\n"
          ]
        }
      ]
    },
    {
      "cell_type": "code",
      "source": [
        " # 20. Creating a Custom Exception:\n",
        "\n",
        "class InvalidAgeError(Exception):\n",
        "    def __init__(self, message=\"❌ Age must be 18 or above.\"):\n",
        "        super().__init__(message)\n",
        "\n",
        "# Function to check age\n",
        "def check_age(age):\n",
        "    if age < 18:\n",
        "        raise InvalidAgeError()\n",
        "    print(\"✅ Age is valid.\")\n",
        "try:\n",
        "    user_age = int(input(\"Enter your age: \"))\n",
        "    check_age(user_age)\n",
        "except InvalidAgeError as e:\n",
        "    print(e)\n"
      ],
      "metadata": {
        "colab": {
          "base_uri": "https://localhost:8080/"
        },
        "id": "hap6kC5gq4V5",
        "outputId": "a309f8ae-b029-40a2-aa6c-743a69a7f052"
      },
      "execution_count": 46,
      "outputs": [
        {
          "output_type": "stream",
          "name": "stdout",
          "text": [
            "Enter your age: 4\n",
            "❌ Age must be 18 or above.\n"
          ]
        }
      ]
    },
    {
      "cell_type": "code",
      "source": [
        "# 21. Make a Custom Class Iterable:\n",
        "\n",
        "class Countdown:\n",
        "    def __init__(self, start):\n",
        "        self.start = start\n",
        "        self.current = start\n",
        "\n",
        "    def __iter__(self):\n",
        "        return self\n",
        "    def __next__(self):\n",
        "        if self.current > 0:\n",
        "            # Decrement the countdown and return the current value\n",
        "            self.current -= 1\n",
        "            return f\"{self.current + 1}\"\n",
        "        else:\n",
        "            raise StopIteration  # Stop iteration when we reach 0\n",
        "countdown = Countdown(20)\n",
        "\n",
        "# Using the Countdown object in a for loop\n",
        "for number in countdown:\n",
        "    print(number)\n"
      ],
      "metadata": {
        "colab": {
          "base_uri": "https://localhost:8080/"
        },
        "id": "kituGX5sx_GG",
        "outputId": "9064039f-ed2d-42e4-cd6f-e3c60dcc9582"
      },
      "execution_count": 55,
      "outputs": [
        {
          "output_type": "stream",
          "name": "stdout",
          "text": [
            "20\n",
            "19\n",
            "18\n",
            "17\n",
            "16\n",
            "15\n",
            "14\n",
            "13\n",
            "12\n",
            "11\n",
            "10\n",
            "9\n",
            "8\n",
            "7\n",
            "6\n",
            "5\n",
            "4\n",
            "3\n",
            "2\n",
            "1\n"
          ]
        }
      ]
    },
    {
      "cell_type": "code",
      "source": [],
      "metadata": {
        "id": "hizklyPvyxdO"
      },
      "execution_count": null,
      "outputs": []
    }
  ]
}